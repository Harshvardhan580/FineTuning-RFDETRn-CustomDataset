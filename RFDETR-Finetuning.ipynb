{
 "cells": [
  {
   "cell_type": "code",
   "execution_count": null,
   "id": "00d6cec5",
   "metadata": {
    "vscode": {
     "languageId": "plaintext"
    }
   },
   "outputs": [],
   "source": [
    "import os\n",
    "os.environ[\"CUDA_LAUNCH_BLOCKING\"] = \"1\""
   ]
  },
  {
   "cell_type": "code",
   "execution_count": null,
   "id": "7ac364a2",
   "metadata": {
    "vscode": {
     "languageId": "plaintext"
    }
   },
   "outputs": [],
   "source": [
    "!pip install -q rfdetr==1.2.1 supervision==0.26.1 roboflow"
   ]
  },
  {
   "cell_type": "code",
   "execution_count": null,
   "id": "7e0f045a",
   "metadata": {
    "vscode": {
     "languageId": "plaintext"
    }
   },
   "outputs": [],
   "source": [
    "import os\n",
    "from google.colab import userdata\n",
    "\n",
    "os.environ[\"ROBOFLOW_API_KEY\"] = userdata.get(\"ROBOFLOW_API_KEY\")"
   ]
  },
  {
   "cell_type": "code",
   "execution_count": null,
   "id": "5f357f5d",
   "metadata": {
    "vscode": {
     "languageId": "plaintext"
    }
   },
   "outputs": [],
   "source": [
    "dataset_dir= \"./\""
   ]
  },
  {
   "cell_type": "code",
   "execution_count": null,
   "id": "f823a863",
   "metadata": {
    "vscode": {
     "languageId": "plaintext"
    }
   },
   "outputs": [],
   "source": [
    "!nvidia-smi"
   ]
  },
  {
   "cell_type": "code",
   "execution_count": null,
   "id": "1fc22a99",
   "metadata": {
    "vscode": {
     "languageId": "plaintext"
    }
   },
   "outputs": [],
   "source": [
    "import torch, gc\n",
    "\n",
    "# Run garbage collector\n",
    "gc.collect()\n",
    "\n",
    "# Clear PyTorch CUDA cache\n",
    "torch.cuda.empty_cache()\n",
    "\n",
    "# Optionally reset PyTorch's memory allocator (more aggressive)\n",
    "torch.cuda.ipc_collect()\n",
    "\n",
    "print(\"CUDA memory cache cleared.\")"
   ]
  },
  {
   "cell_type": "code",
   "execution_count": null,
   "id": "d59eb2b8",
   "metadata": {
    "vscode": {
     "languageId": "plaintext"
    }
   },
   "outputs": [],
   "source": [
    "from rfdetr import RFDETRNano\n",
    "\n",
    "model = RFDETRNano()\n",
    "\n",
    "model.train(dataset_dir=dataset_dir, epochs=25, batch_size=8, grad_accum_steps=2, output_dir=\"./\")"
   ]
  },
  {
   "cell_type": "code",
   "execution_count": null,
   "id": "6826fc6a",
   "metadata": {
    "vscode": {
     "languageId": "plaintext"
    }
   },
   "outputs": [],
   "source": []
  }
 ],
 "metadata": {
  "language_info": {
   "name": "python"
  }
 },
 "nbformat": 4,
 "nbformat_minor": 5
}
